{
 "cells": [
  {
   "cell_type": "markdown",
   "metadata": {},
   "source": [
    "# Continuous Control\n",
    "\n",
    "---\n",
    "\n",
    "In this notebook, you will learn how to use the Unity ML-Agents environment for the second project of the [Deep Reinforcement Learning Nanodegree](https://www.udacity.com/course/deep-reinforcement-learning-nanodegree--nd893) program.\n",
    "\n",
    "### 1. Start the Environment\n",
    "\n",
    "We begin by importing the necessary packages.  If the code cell below returns an error, please revisit the project instructions to double-check that you have installed [Unity ML-Agents](https://github.com/Unity-Technologies/ml-agents/blob/master/docs/Installation.md) and [NumPy](http://www.numpy.org/)."
   ]
  },
  {
   "cell_type": "code",
   "execution_count": 1,
   "metadata": {},
   "outputs": [],
   "source": [
    "from unityagents import UnityEnvironment\n",
    "import numpy as np\n",
    "from itertools import count\n",
    "import time\n",
    "\n",
    "from ddpg_agent import DDPGAgent\n",
    "from collections import deque\n",
    "import torch"
   ]
  },
  {
   "cell_type": "markdown",
   "metadata": {},
   "source": [
    "Next, we will start the environment!  **_Before running the code cell below_**, change the `file_name` parameter to match the location of the Unity environment that you downloaded.\n",
    "\n",
    "- **Mac**: `\"path/to/Reacher.app\"`\n",
    "- **Windows** (x86): `\"path/to/Reacher_Windows_x86/Reacher.exe\"`\n",
    "- **Windows** (x86_64): `\"path/to/Reacher_Windows_x86_64/Reacher.exe\"`\n",
    "- **Linux** (x86): `\"path/to/Reacher_Linux/Reacher.x86\"`\n",
    "- **Linux** (x86_64): `\"path/to/Reacher_Linux/Reacher.x86_64\"`\n",
    "- **Linux** (x86, headless): `\"path/to/Reacher_Linux_NoVis/Reacher.x86\"`\n",
    "- **Linux** (x86_64, headless): `\"path/to/Reacher_Linux_NoVis/Reacher.x86_64\"`\n",
    "\n",
    "For instance, if you are using a Mac, then you downloaded `Reacher.app`.  If this file is in the same folder as the notebook, then the line below should appear as follows:\n",
    "```\n",
    "env = UnityEnvironment(file_name=\"Reacher.app\")\n",
    "```"
   ]
  },
  {
   "cell_type": "code",
   "execution_count": 2,
   "metadata": {},
   "outputs": [
    {
     "name": "stderr",
     "output_type": "stream",
     "text": [
      "INFO:unityagents:\n",
      "'Academy' started successfully!\n",
      "Unity Academy name: Academy\n",
      "        Number of Brains: 1\n",
      "        Number of External Brains : 1\n",
      "        Lesson number : 0\n",
      "        Reset Parameters :\n",
      "\t\tgoal_speed -> 1.0\n",
      "\t\tgoal_size -> 5.0\n",
      "Unity brain name: ReacherBrain\n",
      "        Number of Visual Observations (per agent): 0\n",
      "        Vector Observation space type: continuous\n",
      "        Vector Observation space size (per agent): 33\n",
      "        Number of stacked Vector Observation: 1\n",
      "        Vector Action space type: continuous\n",
      "        Vector Action space size (per agent): 4\n",
      "        Vector Action descriptions: , , , \n"
     ]
    }
   ],
   "source": [
    "env = UnityEnvironment(file_name='Reacher.x86_64')"
   ]
  },
  {
   "cell_type": "markdown",
   "metadata": {},
   "source": [
    "Environments contain **_brains_** which are responsible for deciding the actions of their associated agents. Here we check for the first brain available, and set it as the default brain we will be controlling from Python."
   ]
  },
  {
   "cell_type": "code",
   "execution_count": 3,
   "metadata": {},
   "outputs": [],
   "source": [
    "# get the default brain\n",
    "brain_name = env.brain_names[0]\n",
    "brain = env.brains[brain_name]"
   ]
  },
  {
   "cell_type": "markdown",
   "metadata": {},
   "source": [
    "### 2. Examine the State and Action Spaces\n",
    "\n",
    "In this environment, a double-jointed arm can move to target locations. A reward of `+0.1` is provided for each step that the agent's hand is in the goal location. Thus, the goal of your agent is to maintain its position at the target location for as many time steps as possible.\n",
    "\n",
    "The observation space consists of `33` variables corresponding to position, rotation, velocity, and angular velocities of the arm.  Each action is a vector with four numbers, corresponding to torque applicable to two joints.  Every entry in the action vector must be a number between `-1` and `1`.\n",
    "\n",
    "Run the code cell below to print some information about the environment."
   ]
  },
  {
   "cell_type": "code",
   "execution_count": 4,
   "metadata": {},
   "outputs": [
    {
     "name": "stdout",
     "output_type": "stream",
     "text": [
      "Number of agents: 20\n",
      "Size of each action: 4\n",
      "There are 20 agents. Each observes a state with length: 33\n",
      "The state for the first agent looks like: [ 0.00000000e+00 -4.00000000e+00  0.00000000e+00  1.00000000e+00\n",
      " -0.00000000e+00 -0.00000000e+00 -4.37113883e-08  0.00000000e+00\n",
      "  0.00000000e+00  0.00000000e+00  0.00000000e+00  0.00000000e+00\n",
      "  0.00000000e+00  0.00000000e+00 -1.00000000e+01  0.00000000e+00\n",
      "  1.00000000e+00 -0.00000000e+00 -0.00000000e+00 -4.37113883e-08\n",
      "  0.00000000e+00  0.00000000e+00  0.00000000e+00  0.00000000e+00\n",
      "  0.00000000e+00  0.00000000e+00  5.75471878e+00 -1.00000000e+00\n",
      "  5.55726624e+00  0.00000000e+00  1.00000000e+00  0.00000000e+00\n",
      " -1.68164849e-01]\n"
     ]
    }
   ],
   "source": [
    "# reset the environment\n",
    "env_info = env.reset(train_mode=True)[brain_name]\n",
    "\n",
    "# number of agents\n",
    "num_agents = len(env_info.agents)\n",
    "print('Number of agents:', num_agents)\n",
    "\n",
    "# size of each action\n",
    "action_size = brain.vector_action_space_size\n",
    "print('Size of each action:', action_size)\n",
    "\n",
    "# examine the state space \n",
    "states = env_info.vector_observations\n",
    "state_size = states.shape[1]\n",
    "print('There are {} agents. Each observes a state with length: {}'.format(states.shape[0], state_size))\n",
    "print('The state for the first agent looks like:', states[0])"
   ]
  },
  {
   "cell_type": "markdown",
   "metadata": {},
   "source": [
    "### 3. Take Random Actions in the Environment (Skip this for training)\n",
    "\n",
    "In the next code cell, you will learn how to use the Python API to control the agent and receive feedback from the environment.\n",
    "\n",
    "Once this cell is executed, you will watch the agent's performance, if it selects an action at random with each time step.  A window should pop up that allows you to observe the agent, as it moves through the environment.  \n",
    "\n",
    "Of course, as part of the project, you'll have to change the code so that the agent is able to use its experience to gradually choose better actions when interacting with the environment!"
   ]
  },
  {
   "cell_type": "code",
   "execution_count": null,
   "metadata": {},
   "outputs": [],
   "source": [
    "env_info = env.reset(train_mode=False)[brain_name]     # reset the environment    \n",
    "states = env_info.vector_observations                  # get the current state (for each agent)\n",
    "scores = np.zeros(num_agents)                          # initialize the score (for each agent)\n",
    "while True:\n",
    "    actions = np.random.randn(num_agents, action_size) # select an action (for each agent)\n",
    "    actions = np.clip(actions, -1, 1)                  # all actions between -1 and 1\n",
    "    env_info = env.step(actions)[brain_name]           # send all actions to tne environment\n",
    "    next_states = env_info.vector_observations         # get next state (for each agent)\n",
    "    rewards = env_info.rewards                         # get reward (for each agent)\n",
    "    dones = env_info.local_done                        # see if episode finished\n",
    "    scores += env_info.rewards                         # update the score (for each agent)\n",
    "    states = next_states                               # roll over states to next time step\n",
    "    if np.any(dones):                                  # exit loop if episode finished\n",
    "        break\n",
    "print('Total score (averaged over agents) this episode: {}'.format(np.mean(scores)))"
   ]
  },
  {
   "cell_type": "markdown",
   "metadata": {},
   "source": [
    "When finished, you can close the environment."
   ]
  },
  {
   "cell_type": "markdown",
   "metadata": {},
   "source": [
    "env.close()"
   ]
  },
  {
   "cell_type": "markdown",
   "metadata": {},
   "source": [
    "### 4. It's Your Turn!\n",
    "\n",
    "Now it's your turn to train your own agent to solve the environment!  When training the environment, set `train_mode=True`, so that the line for resetting the environment looks like the following:\n",
    "```python\n",
    "env_info = env.reset(train_mode=True)[brain_name]\n",
    "```"
   ]
  },
  {
   "cell_type": "markdown",
   "metadata": {},
   "source": [
    "#### 4.1 Agent"
   ]
  },
  {
   "cell_type": "code",
   "execution_count": 5,
   "metadata": {},
   "outputs": [],
   "source": [
    "agent = DDPGAgent(state_size=state_size, action_size=action_size, random_seed=27)"
   ]
  },
  {
   "cell_type": "markdown",
   "metadata": {},
   "source": [
    "#### 4.2 DDPG"
   ]
  },
  {
   "cell_type": "code",
   "execution_count": 6,
   "metadata": {},
   "outputs": [],
   "source": [
    "def ddpg(n_episodes=2000):\n",
    "    scores_deque = deque(maxlen=100)\n",
    "    scores_global = []\n",
    "    \n",
    "    for i_episode in range(1, n_episodes+1):\n",
    "        timestep = time.time()\n",
    "        \n",
    "        average_score = 0\n",
    "        env_info = env.reset(train_mode=True)[brain_name] # reset the environment\n",
    "        scores = np.zeros(num_agents)            # set scores for all agent\n",
    "        states = env_info.vector_observations    # get current states for all agents\n",
    "       \n",
    "        agent.reset()\n",
    "        score = 0                                #reset score each episode\n",
    "        \n",
    "\n",
    "        for t in range(1000):\n",
    "            actions = agent.act(states)          # get actions for all agent\n",
    "\n",
    "            #next_state, reward, done, _ = env.step(action) -> Unity environment doesn't return next_state, reward, etc.\n",
    "            #instead the step returns the env_info:\n",
    "            env_info = env.step(actions)[brain_name]\n",
    "\n",
    "            #from  env_info next_state, reward and done can be retrived:\n",
    "            next_states = env_info.vector_observations    # get next_states for all agent\n",
    "            rewards = env_info.rewards                    # get rewards for all agent\n",
    "            dones = env_info.local_done                   # get dones for all agent\n",
    "            \n",
    "            #let the agent step:\n",
    "            agent.step(states, actions, rewards, next_states, dones)\n",
    "\n",
    "            # only learn every 20 steps (as suggested in the lesson tipps)\n",
    "            if (t%20 == 0):    \n",
    "                agent.learnexperiences(10)  # reapeat learning 10 times\n",
    "\n",
    "            #update states and scores:\n",
    "            states = next_states\n",
    "            scores += rewards\n",
    "            \n",
    "            if np.any(dones):\n",
    "                break \n",
    "\n",
    "        score = np.mean(scores)\n",
    "        scores_deque.append(score)\n",
    "        average_score = np.mean(scores_deque)\n",
    "        scores_global.append(score)\n",
    "\n",
    "        print('\\rEpisode {}, Average Score: {:.2f}, Min: {:.2f}, Max: {:.2f}, Time: {:.2f}'\\\n",
    "          .format(i_episode, average_score, np.min(scores), np.max(scores), time.time() - timestep), end=\"\\n\")        \n",
    "\n",
    "        if i_episode % 10 == 0:\n",
    "            torch.save(agent.actor_local.state_dict(), 'checkpoint_actor.pth')\n",
    "            torch.save(agent.critic_local.state_dict(), 'checkpoint_critic.pth')\n",
    "            print('\\r#############################                 Episode {}, Average Score: {:.2f}      ####################'\\\n",
    "          .format(i_episode, average_score), end=\"\\n\")        \n",
    "\n",
    "\n",
    "        if average_score >= 30.0:\n",
    "            print('\\nEnvironment solved in {:d} episodes!\\tAverage Score: {:.2f}'.format(i_episode, average_score))  \n",
    "            torch.save(agent.actor_local.state_dict(), 'checkpoint_actor.pth')\n",
    "            torch.save(agent.critic_local.state_dict(), 'checkpoint_critic.pth')            \n",
    "            break\n",
    "    return scores_global"
   ]
  },
  {
   "cell_type": "markdown",
   "metadata": {},
   "source": [
    "#### 4.3 Run"
   ]
  },
  {
   "cell_type": "code",
   "execution_count": 7,
   "metadata": {},
   "outputs": [
    {
     "name": "stdout",
     "output_type": "stream",
     "text": [
      "Episode 1, Average Score: 0.00, Min: 0.00, Max: 0.00, Time: 7.87\n",
      "Episode 2, Average Score: 0.02, Min: 0.00, Max: 0.21, Time: 8.14\n",
      "Episode 3, Average Score: 0.01, Min: 0.00, Max: 0.00, Time: 8.37\n",
      "Episode 4, Average Score: 0.01, Min: 0.00, Max: 0.13, Time: 8.56\n",
      "Episode 5, Average Score: 0.11, Min: 0.14, Max: 1.08, Time: 8.78\n",
      "Episode 6, Average Score: 0.21, Min: 0.09, Max: 1.71, Time: 8.94\n",
      "Episode 7, Average Score: 0.25, Min: 0.00, Max: 1.45, Time: 9.34\n",
      "Episode 8, Average Score: 0.29, Min: 0.04, Max: 1.58, Time: 9.67\n",
      "Episode 9, Average Score: 0.35, Min: 0.21, Max: 1.58, Time: 10.04\n",
      "Episode 10, Average Score: 0.40, Min: 0.15, Max: 2.04, Time: 10.42\n",
      "#############################                 Episode 10, Average Score: 0.40      ####################\n",
      "Episode 11, Average Score: 0.44, Min: 0.00, Max: 2.37, Time: 10.80\n",
      "Episode 12, Average Score: 0.48, Min: 0.10, Max: 1.78, Time: 11.23\n",
      "Episode 13, Average Score: 0.51, Min: 0.16, Max: 2.52, Time: 11.75\n",
      "Episode 14, Average Score: 0.55, Min: 0.06, Max: 2.04, Time: 12.23\n",
      "Episode 15, Average Score: 0.61, Min: 0.32, Max: 3.08, Time: 12.76\n",
      "Episode 16, Average Score: 0.65, Min: 0.31, Max: 2.41, Time: 13.21\n",
      "Episode 17, Average Score: 0.75, Min: 0.29, Max: 4.17, Time: 13.62\n",
      "Episode 18, Average Score: 0.81, Min: 0.58, Max: 4.07, Time: 13.96\n",
      "Episode 19, Average Score: 0.90, Min: 0.82, Max: 4.35, Time: 14.40\n",
      "Episode 20, Average Score: 0.96, Min: 0.57, Max: 4.99, Time: 14.83\n",
      "#############################                 Episode 20, Average Score: 0.96      ####################\n",
      "Episode 21, Average Score: 1.11, Min: 0.70, Max: 10.95, Time: 15.32\n",
      "Episode 22, Average Score: 1.25, Min: 1.27, Max: 7.75, Time: 16.01\n",
      "Episode 23, Average Score: 1.42, Min: 2.19, Max: 8.25, Time: 16.46\n",
      "Episode 24, Average Score: 1.56, Min: 1.49, Max: 8.48, Time: 16.72\n",
      "Episode 25, Average Score: 1.74, Min: 3.52, Max: 9.18, Time: 17.23\n",
      "Episode 26, Average Score: 1.88, Min: 1.56, Max: 9.94, Time: 17.62\n",
      "Episode 27, Average Score: 2.06, Min: 2.12, Max: 15.43, Time: 18.14\n",
      "Episode 28, Average Score: 2.28, Min: 4.85, Max: 12.61, Time: 18.47\n",
      "Episode 29, Average Score: 2.47, Min: 4.98, Max: 12.21, Time: 19.09\n",
      "Episode 30, Average Score: 2.65, Min: 4.86, Max: 12.33, Time: 19.26\n",
      "#############################                 Episode 30, Average Score: 2.65      ####################\n",
      "Episode 31, Average Score: 2.82, Min: 5.46, Max: 10.46, Time: 19.66\n",
      "Episode 32, Average Score: 2.97, Min: 0.62, Max: 10.89, Time: 20.45\n",
      "Episode 33, Average Score: 3.18, Min: 5.37, Max: 16.32, Time: 20.47\n",
      "Episode 34, Average Score: 3.36, Min: 5.06, Max: 15.88, Time: 21.09\n",
      "Episode 35, Average Score: 3.52, Min: 5.97, Max: 15.61, Time: 21.50\n",
      "Episode 36, Average Score: 3.68, Min: 2.85, Max: 15.24, Time: 21.88\n",
      "Episode 37, Average Score: 3.85, Min: 4.59, Max: 14.02, Time: 22.30\n",
      "Episode 38, Average Score: 3.99, Min: 6.84, Max: 13.72, Time: 22.93\n",
      "Episode 39, Average Score: 4.13, Min: 6.96, Max: 11.82, Time: 23.42\n",
      "Episode 40, Average Score: 4.27, Min: 5.10, Max: 18.53, Time: 23.42\n",
      "#############################                 Episode 40, Average Score: 4.27      ####################\n",
      "Episode 41, Average Score: 4.42, Min: 5.92, Max: 16.47, Time: 24.01\n",
      "Episode 42, Average Score: 4.57, Min: 3.99, Max: 16.51, Time: 24.71\n",
      "Episode 43, Average Score: 4.75, Min: 7.55, Max: 26.34, Time: 25.12\n",
      "Episode 44, Average Score: 4.91, Min: 7.09, Max: 17.56, Time: 25.29\n",
      "Episode 45, Average Score: 5.07, Min: 6.70, Max: 25.45, Time: 25.95\n",
      "Episode 46, Average Score: 5.21, Min: 7.62, Max: 15.96, Time: 26.06\n",
      "Episode 47, Average Score: 5.39, Min: 4.34, Max: 19.53, Time: 26.26\n",
      "Episode 48, Average Score: 5.54, Min: 9.08, Max: 21.63, Time: 27.21\n",
      "Episode 49, Average Score: 5.70, Min: 7.59, Max: 18.95, Time: 27.18\n",
      "Episode 50, Average Score: 5.87, Min: 9.18, Max: 21.17, Time: 27.80\n",
      "#############################                 Episode 50, Average Score: 5.87      ####################\n",
      "Episode 51, Average Score: 6.05, Min: 11.43, Max: 18.57, Time: 28.39\n",
      "Episode 52, Average Score: 6.27, Min: 12.71, Max: 24.29, Time: 28.40\n",
      "Episode 53, Average Score: 6.45, Min: 7.48, Max: 22.93, Time: 27.81\n",
      "Episode 54, Average Score: 6.67, Min: 8.56, Max: 30.80, Time: 28.05\n",
      "Episode 55, Average Score: 6.87, Min: 13.43, Max: 22.26, Time: 27.90\n",
      "Episode 56, Average Score: 7.02, Min: 2.31, Max: 19.83, Time: 28.44\n",
      "Episode 57, Average Score: 7.19, Min: 12.16, Max: 22.10, Time: 28.49\n",
      "Episode 58, Average Score: 7.37, Min: 13.41, Max: 23.38, Time: 27.88\n",
      "Episode 59, Average Score: 7.53, Min: 3.49, Max: 25.24, Time: 27.93\n",
      "Episode 60, Average Score: 7.72, Min: 14.21, Max: 24.49, Time: 28.08\n",
      "#############################                 Episode 60, Average Score: 7.72      ####################\n",
      "Episode 61, Average Score: 7.93, Min: 10.01, Max: 34.59, Time: 28.50\n",
      "Episode 62, Average Score: 8.13, Min: 10.74, Max: 24.48, Time: 28.61\n",
      "Episode 63, Average Score: 8.31, Min: 8.97, Max: 33.64, Time: 28.49\n",
      "Episode 64, Average Score: 8.48, Min: 15.50, Max: 23.43, Time: 28.60\n",
      "Episode 65, Average Score: 8.65, Min: 13.69, Max: 26.87, Time: 28.24\n",
      "Episode 66, Average Score: 8.85, Min: 16.08, Max: 29.33, Time: 28.00\n",
      "Episode 67, Average Score: 9.03, Min: 15.84, Max: 27.01, Time: 28.04\n",
      "Episode 68, Average Score: 9.22, Min: 16.70, Max: 27.33, Time: 28.16\n",
      "Episode 69, Average Score: 9.38, Min: 9.84, Max: 25.92, Time: 28.46\n",
      "Episode 70, Average Score: 9.57, Min: 18.25, Max: 26.52, Time: 28.35\n",
      "#############################                 Episode 70, Average Score: 9.57      ####################\n",
      "Episode 71, Average Score: 9.76, Min: 13.49, Max: 33.97, Time: 28.15\n",
      "Episode 72, Average Score: 9.96, Min: 18.59, Max: 34.59, Time: 28.21\n",
      "Episode 73, Average Score: 10.14, Min: 16.04, Max: 34.78, Time: 28.10\n",
      "Episode 74, Average Score: 10.30, Min: 15.18, Max: 26.77, Time: 28.14\n",
      "Episode 75, Average Score: 10.47, Min: 17.98, Max: 28.18, Time: 28.31\n",
      "Episode 76, Average Score: 10.63, Min: 18.16, Max: 30.18, Time: 28.16\n",
      "Episode 77, Average Score: 10.79, Min: 10.19, Max: 39.40, Time: 27.98\n",
      "Episode 78, Average Score: 10.92, Min: 6.78, Max: 38.84, Time: 28.03\n",
      "Episode 79, Average Score: 11.05, Min: 18.38, Max: 26.99, Time: 28.13\n",
      "Episode 80, Average Score: 11.18, Min: 14.24, Max: 27.02, Time: 28.13\n",
      "#############################                 Episode 80, Average Score: 11.18      ####################\n",
      "Episode 81, Average Score: 11.28, Min: 6.10, Max: 33.85, Time: 28.05\n",
      "Episode 82, Average Score: 11.38, Min: 14.53, Max: 26.60, Time: 28.73\n",
      "Episode 83, Average Score: 11.51, Min: 9.86, Max: 30.64, Time: 28.40\n",
      "Episode 84, Average Score: 11.62, Min: 16.48, Max: 27.73, Time: 28.00\n",
      "Episode 85, Average Score: 11.74, Min: 4.64, Max: 28.01, Time: 28.70\n",
      "Episode 86, Average Score: 11.87, Min: 15.66, Max: 27.27, Time: 28.84\n",
      "Episode 87, Average Score: 12.04, Min: 19.05, Max: 32.16, Time: 28.43\n",
      "Episode 88, Average Score: 12.20, Min: 20.99, Max: 32.87, Time: 27.99\n",
      "Episode 89, Average Score: 12.35, Min: 19.40, Max: 33.56, Time: 28.15\n",
      "Episode 90, Average Score: 12.52, Min: 18.31, Max: 33.52, Time: 28.23\n",
      "#############################                 Episode 90, Average Score: 12.52      ####################\n",
      "Episode 91, Average Score: 12.71, Min: 25.54, Max: 33.24, Time: 28.30\n",
      "Episode 92, Average Score: 12.87, Min: 21.86, Max: 34.39, Time: 28.28\n",
      "Episode 93, Average Score: 13.05, Min: 23.99, Max: 39.29, Time: 28.68\n",
      "Episode 94, Average Score: 13.25, Min: 22.95, Max: 36.46, Time: 28.55\n",
      "Episode 95, Average Score: 13.43, Min: 23.75, Max: 34.83, Time: 28.22\n",
      "Episode 96, Average Score: 13.64, Min: 27.35, Max: 38.83, Time: 28.25\n",
      "Episode 97, Average Score: 13.81, Min: 22.54, Max: 35.23, Time: 28.07\n",
      "Episode 98, Average Score: 13.99, Min: 23.84, Max: 35.59, Time: 28.20\n",
      "Episode 99, Average Score: 14.17, Min: 23.98, Max: 36.24, Time: 28.74\n",
      "Episode 100, Average Score: 14.33, Min: 24.27, Max: 36.15, Time: 28.10\n",
      "#############################                 Episode 100, Average Score: 14.33      ####################\n",
      "Episode 101, Average Score: 14.64, Min: 24.12, Max: 35.11, Time: 28.10\n",
      "Episode 102, Average Score: 14.96, Min: 26.58, Max: 37.73, Time: 28.18\n",
      "Episode 103, Average Score: 15.27, Min: 22.08, Max: 38.44, Time: 28.07\n",
      "Episode 104, Average Score: 15.60, Min: 27.32, Max: 37.85, Time: 28.09\n",
      "Episode 105, Average Score: 15.93, Min: 26.92, Max: 37.64, Time: 28.21\n"
     ]
    },
    {
     "name": "stdout",
     "output_type": "stream",
     "text": [
      "Episode 106, Average Score: 16.23, Min: 24.57, Max: 39.08, Time: 28.58\n",
      "Episode 107, Average Score: 16.53, Min: 21.14, Max: 34.40, Time: 28.63\n",
      "Episode 108, Average Score: 16.79, Min: 21.24, Max: 33.79, Time: 28.24\n",
      "Episode 109, Average Score: 17.10, Min: 24.10, Max: 36.67, Time: 28.17\n",
      "Episode 110, Average Score: 17.42, Min: 24.87, Max: 38.81, Time: 28.34\n",
      "#############################                 Episode 110, Average Score: 17.42      ####################\n",
      "Episode 111, Average Score: 17.71, Min: 20.17, Max: 33.83, Time: 28.26\n",
      "Episode 112, Average Score: 18.02, Min: 24.72, Max: 38.10, Time: 28.63\n",
      "Episode 113, Average Score: 18.33, Min: 23.94, Max: 36.95, Time: 28.56\n",
      "Episode 114, Average Score: 18.64, Min: 23.57, Max: 34.72, Time: 28.33\n",
      "Episode 115, Average Score: 18.93, Min: 21.08, Max: 38.00, Time: 28.10\n",
      "Episode 116, Average Score: 19.24, Min: 27.50, Max: 36.18, Time: 28.41\n",
      "Episode 117, Average Score: 19.54, Min: 19.53, Max: 36.68, Time: 28.06\n",
      "Episode 118, Average Score: 19.82, Min: 25.88, Max: 34.06, Time: 28.71\n",
      "Episode 119, Average Score: 20.09, Min: 17.44, Max: 35.52, Time: 28.02\n",
      "Episode 120, Average Score: 20.38, Min: 23.35, Max: 35.25, Time: 28.74\n",
      "#############################                 Episode 120, Average Score: 20.38      ####################\n",
      "Episode 121, Average Score: 20.65, Min: 22.75, Max: 34.29, Time: 28.10\n",
      "Episode 122, Average Score: 20.91, Min: 23.12, Max: 34.46, Time: 28.09\n",
      "Episode 123, Average Score: 21.17, Min: 26.93, Max: 34.41, Time: 27.92\n",
      "Episode 124, Average Score: 21.43, Min: 25.46, Max: 33.82, Time: 28.15\n",
      "Episode 125, Average Score: 21.66, Min: 24.51, Max: 35.06, Time: 28.60\n",
      "Episode 126, Average Score: 21.88, Min: 18.93, Max: 34.37, Time: 28.21\n",
      "Episode 127, Average Score: 22.15, Min: 30.30, Max: 35.20, Time: 28.11\n",
      "Episode 128, Average Score: 22.38, Min: 26.00, Max: 37.86, Time: 28.28\n",
      "Episode 129, Average Score: 22.61, Min: 25.05, Max: 36.01, Time: 28.48\n",
      "Episode 130, Average Score: 22.84, Min: 23.68, Max: 37.08, Time: 28.30\n",
      "#############################                 Episode 130, Average Score: 22.84      ####################\n",
      "Episode 131, Average Score: 23.07, Min: 27.60, Max: 37.33, Time: 28.41\n",
      "Episode 132, Average Score: 23.31, Min: 20.43, Max: 37.58, Time: 28.10\n",
      "Episode 133, Average Score: 23.50, Min: 23.17, Max: 36.47, Time: 28.37\n",
      "Episode 134, Average Score: 23.73, Min: 25.92, Max: 37.12, Time: 28.44\n",
      "Episode 135, Average Score: 23.96, Min: 24.76, Max: 38.05, Time: 28.09\n",
      "Episode 136, Average Score: 24.19, Min: 22.55, Max: 37.68, Time: 28.39\n",
      "Episode 137, Average Score: 24.42, Min: 25.99, Max: 37.60, Time: 28.18\n",
      "Episode 138, Average Score: 24.63, Min: 24.34, Max: 35.89, Time: 28.57\n",
      "Episode 139, Average Score: 24.86, Min: 27.40, Max: 36.52, Time: 28.10\n",
      "Episode 140, Average Score: 25.10, Min: 31.01, Max: 37.42, Time: 28.46\n",
      "#############################                 Episode 140, Average Score: 25.10      ####################\n",
      "Episode 141, Average Score: 25.33, Min: 27.55, Max: 37.12, Time: 28.65\n",
      "Episode 142, Average Score: 25.55, Min: 27.20, Max: 36.49, Time: 28.19\n",
      "Episode 143, Average Score: 25.74, Min: 19.81, Max: 35.59, Time: 28.21\n",
      "Episode 144, Average Score: 25.95, Min: 28.97, Max: 36.57, Time: 28.18\n",
      "Episode 145, Average Score: 26.14, Min: 25.95, Max: 35.18, Time: 28.03\n",
      "Episode 146, Average Score: 26.36, Min: 27.11, Max: 37.13, Time: 28.04\n",
      "Episode 147, Average Score: 26.54, Min: 29.39, Max: 36.57, Time: 28.14\n",
      "Episode 148, Average Score: 26.74, Min: 28.38, Max: 34.77, Time: 28.65\n",
      "Episode 149, Average Score: 26.93, Min: 27.90, Max: 35.86, Time: 28.75\n",
      "Episode 150, Average Score: 27.11, Min: 26.85, Max: 35.44, Time: 28.28\n",
      "#############################                 Episode 150, Average Score: 27.11      ####################\n",
      "Episode 151, Average Score: 27.29, Min: 26.42, Max: 39.11, Time: 28.62\n",
      "Episode 152, Average Score: 27.44, Min: 28.06, Max: 37.15, Time: 28.15\n",
      "Episode 153, Average Score: 27.56, Min: 24.16, Max: 33.66, Time: 28.62\n",
      "Episode 154, Average Score: 27.70, Min: 28.12, Max: 37.45, Time: 28.43\n",
      "Episode 155, Average Score: 27.84, Min: 24.12, Max: 36.58, Time: 28.16\n",
      "Episode 156, Average Score: 27.98, Min: 26.42, Max: 34.69, Time: 28.14\n",
      "Episode 157, Average Score: 28.11, Min: 24.12, Max: 35.63, Time: 28.21\n",
      "Episode 158, Average Score: 28.24, Min: 26.77, Max: 34.80, Time: 28.43\n",
      "Episode 159, Average Score: 28.36, Min: 22.07, Max: 35.16, Time: 28.72\n",
      "Episode 160, Average Score: 28.49, Min: 26.90, Max: 36.89, Time: 28.25\n",
      "#############################                 Episode 160, Average Score: 28.49      ####################\n",
      "Episode 161, Average Score: 28.58, Min: 18.38, Max: 35.96, Time: 28.70\n",
      "Episode 162, Average Score: 28.66, Min: 16.97, Max: 35.08, Time: 28.68\n",
      "Episode 163, Average Score: 28.75, Min: 23.34, Max: 33.38, Time: 28.31\n",
      "Episode 164, Average Score: 28.83, Min: 21.07, Max: 37.27, Time: 28.60\n",
      "Episode 165, Average Score: 28.92, Min: 20.57, Max: 38.86, Time: 28.68\n",
      "Episode 166, Average Score: 28.99, Min: 21.67, Max: 34.23, Time: 28.26\n",
      "Episode 167, Average Score: 29.06, Min: 22.13, Max: 35.58, Time: 28.21\n",
      "Episode 168, Average Score: 29.11, Min: 18.34, Max: 38.12, Time: 28.48\n",
      "Episode 169, Average Score: 29.19, Min: 19.30, Max: 35.48, Time: 28.63\n",
      "Episode 170, Average Score: 29.25, Min: 19.36, Max: 39.12, Time: 28.33\n",
      "#############################                 Episode 170, Average Score: 29.25      ####################\n",
      "Episode 171, Average Score: 29.30, Min: 18.05, Max: 34.70, Time: 28.58\n",
      "Episode 172, Average Score: 29.34, Min: 16.70, Max: 33.17, Time: 28.61\n",
      "Episode 173, Average Score: 29.39, Min: 18.98, Max: 37.23, Time: 28.49\n",
      "Episode 174, Average Score: 29.46, Min: 17.59, Max: 33.22, Time: 28.57\n",
      "Episode 175, Average Score: 29.53, Min: 23.26, Max: 38.65, Time: 28.59\n",
      "Episode 176, Average Score: 29.62, Min: 23.52, Max: 36.50, Time: 28.70\n",
      "Episode 177, Average Score: 29.71, Min: 23.22, Max: 37.87, Time: 28.71\n",
      "Episode 178, Average Score: 29.80, Min: 24.58, Max: 35.13, Time: 28.64\n",
      "Episode 179, Average Score: 29.89, Min: 24.18, Max: 36.06, Time: 28.56\n",
      "Episode 180, Average Score: 29.98, Min: 20.31, Max: 37.10, Time: 28.17\n",
      "#############################                 Episode 180, Average Score: 29.98      ####################\n",
      "Episode 181, Average Score: 30.07, Min: 18.60, Max: 36.84, Time: 28.44\n",
      "\n",
      "Environment solved in 181 episodes!\tAverage Score: 30.07\n"
     ]
    }
   ],
   "source": [
    "scores = ddpg()"
   ]
  },
  {
   "cell_type": "markdown",
   "metadata": {},
   "source": [
    "#### 4.4 Visualisation"
   ]
  },
  {
   "cell_type": "code",
   "execution_count": 9,
   "metadata": {},
   "outputs": [
    {
     "data": {
      "image/png": "[encoded data removed]",
      "text/plain": [
       "<Figure size 432x288 with 1 Axes>"
      ]
     },
     "metadata": {
      "needs_background": "light"
     },
     "output_type": "display_data"
    }
   ],
   "source": [
    "import matplotlib.pyplot as plt\n",
    "%matplotlib inline\n",
    "\n",
    "fig = plt.figure()\n",
    "ax = fig.add_subplot(111)\n",
    "plt.plot(np.arange(1, len(scores)+1), scores)\n",
    "plt.ylabel('Score')\n",
    "plt.xlabel('Episode #')\n",
    "plt.show()"
   ]
  }
 ],
 "metadata": {
  "kernelspec": {
   "display_name": "Python 3",
   "language": "python",
   "name": "python3"
  },
  "language_info": {
   "codemirror_mode": {
    "name": "ipython",
    "version": 3
   },
   "file_extension": ".py",
   "mimetype": "text/x-python",
   "name": "python",
   "nbconvert_exporter": "python",
   "pygments_lexer": "ipython3",
   "version": "3.6.6"
  }
 },
 "nbformat": 4,
 "nbformat_minor": 2
}
